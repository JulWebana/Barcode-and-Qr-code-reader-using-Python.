{
 "cells": [
  {
   "cell_type": "markdown",
   "id": "a17ee442",
   "metadata": {},
   "source": [
    "### Barcode and Qr code reader using Python."
   ]
  },
  {
   "cell_type": "markdown",
   "id": "a894ab90",
   "metadata": {},
   "source": [
    "I think barcodes/QR codes are very cool and interesting because they store information in a different format.\n",
    "The fun thing about them is that we can't really know what they store until we scan them. "
   ]
  },
  {
   "cell_type": "raw",
   "id": "73d26d08",
   "metadata": {},
   "source": [
    "Through these lines of code, we'll get an idea of how to use computer vision and artificial intelligence in real life."
   ]
  },
  {
   "cell_type": "code",
   "execution_count": 1,
   "id": "922bc622",
   "metadata": {},
   "outputs": [],
   "source": [
    "# Let's install the libraries: Pillow, OpenCV et Pyzbar."
   ]
  },
  {
   "cell_type": "code",
   "execution_count": 2,
   "id": "198eaef4",
   "metadata": {},
   "outputs": [
    {
     "name": "stdout",
     "output_type": "stream",
     "text": [
      "Requirement already satisfied: Pillow in c:\\users\\user\\anaconda3.1\\lib\\site-packages (8.4.0)\n",
      "Note: you may need to restart the kernel to use updated packages.\n"
     ]
    }
   ],
   "source": [
    "pip install Pillow"
   ]
  },
  {
   "cell_type": "code",
   "execution_count": 3,
   "id": "75b0b70c",
   "metadata": {},
   "outputs": [
    {
     "name": "stdout",
     "output_type": "stream",
     "text": [
      "Requirement already satisfied: opencv-python in c:\\users\\user\\appdata\\roaming\\python\\python39\\site-packages (4.5.5.64)\n",
      "Requirement already satisfied: numpy>=1.19.3 in c:\\users\\user\\anaconda3.1\\lib\\site-packages (from opencv-python) (1.20.3)\n",
      "Note: you may need to restart the kernel to use updated packages.\n"
     ]
    }
   ],
   "source": [
    "pip install --user opencv-python"
   ]
  },
  {
   "cell_type": "code",
   "execution_count": 4,
   "id": "6a71dc70",
   "metadata": {},
   "outputs": [],
   "source": [
    "# Depending on the computer you are using, the installation of the Pyzbar library is different\n",
    "# Mac OS version:<brew install zbar>\n",
    "# Windows OS version:"
   ]
  },
  {
   "cell_type": "code",
   "execution_count": 5,
   "id": "535bdb46",
   "metadata": {},
   "outputs": [
    {
     "name": "stdout",
     "output_type": "stream",
     "text": [
      "Requirement already satisfied: pyzbar in c:\\users\\user\\anaconda3.1\\lib\\site-packages (0.1.9)\n",
      "Note: you may need to restart the kernel to use updated packages.\n"
     ]
    }
   ],
   "source": [
    "pip install pyzbar"
   ]
  },
  {
   "cell_type": "code",
   "execution_count": 6,
   "id": "5727d118",
   "metadata": {},
   "outputs": [],
   "source": [
    "#import libraries\n",
    "import cv2\n",
    "from pyzbar import pyzbar"
   ]
  },
  {
   "cell_type": "code",
   "execution_count": 7,
   "id": "8d666452",
   "metadata": {},
   "outputs": [],
   "source": [
    "def read_barcodes(frame):\n",
    "    barcodes = pyzbar.decode(frame)\n",
    "    for barcode in barcodes:\n",
    "        x, y , w, h = barcode.rect\n",
    "        #1\n",
    "        barcode_info = barcode.data.decode('utf-8')\n",
    "        cv2.rectangle(frame, (x, y),(x+w, y+h), (0, 255, 0), 2)\n",
    "        \n",
    "        #2\n",
    "        font = cv2.FONT_HERSHEY_DUPLEX\n",
    "        cv2.putText(frame, barcode_info, (x + 6, y - 6), font, 2.0, (255, 255, 255), 1)\n",
    "        #3\n",
    "        with open(\"barcode_result.txt\", mode ='w') as file:\n",
    "            file.write(\"Recognized Barcode:\" + barcode_info)\n",
    "    return frame"
   ]
  },
  {
   "cell_type": "markdown",
   "id": "66759d9e",
   "metadata": {},
   "source": [
    "Comprehension of the function :\n",
    "\n",
    "    First, I decoded the information from the barcode or QR code. Then I drew a rectangle around it. This helps me to see if the machine has detected the barcode or QR code.\n",
    "    \n",
    "    Next, I added text above the rectangle that was created. The text will show the decoded information.\n",
    "\n",
    "    Finally, I exported the information into a text document.\n",
    "(If you plan to test with more than one barcode or QR code, I recommend that you change the name of the document, otherwise \n",
    "it will be overwritten)."
   ]
  },
  {
   "cell_type": "markdown",
   "id": "04d2be41",
   "metadata": {},
   "source": [
    "# Main function"
   ]
  },
  {
   "cell_type": "markdown",
   "id": "378f08ef",
   "metadata": {},
   "source": [
    "In this step, I write the main function, where the application is asked to run. The main function will turn on the computer's video camera, then call the decode function. Here is the code:\n"
   ]
  },
  {
   "cell_type": "code",
   "execution_count": 8,
   "id": "1f274f99",
   "metadata": {},
   "outputs": [],
   "source": [
    "def main():\n",
    "    #1\n",
    "    camera = cv2.VideoCapture(0)\n",
    "    ret, frame = camera.read()\n",
    "    #2\n",
    "    while ret:\n",
    "        ret, frame = camera.read()\n",
    "        frame = read_barcodes(frame)\n",
    "        cv2.imshow('Barcode/QR code reader', frame)\n",
    "        if cv2.waitKey(1) & 0xFF == 27:\n",
    "            break\n",
    "    #3\n",
    "    camera.release()\n",
    "    cv2.destroyAllWindows()\n",
    "#4\n",
    "if __name__ == '__main__':\n",
    "    main()"
   ]
  },
  {
   "cell_type": "markdown",
   "id": "2625137d",
   "metadata": {},
   "source": [
    "First of all, I will turn on the computer's camera using OpenCV. (If you have an external camera, you need to change the value from 0 to 1 depending on the device).\n",
    "\n",
    "Secondly, I run a while loop to keep running the decoding function until the \"Esc\" key is pressed. Otherwise, the loop will not stop and will cause some problems.\n",
    "\n",
    "Thirdly, I release the camera that I activated in the first step. \n",
    "\n",
    "And finally, I close the application window. OpenCV does all the work, I just need to call the methods.\n",
    "\n",
    "To finish, I call the main function to trigger the program."
   ]
  },
  {
   "cell_type": "markdown",
   "id": "8551835a",
   "metadata": {},
   "source": [
    "# END"
   ]
  }
 ],
 "metadata": {
  "kernelspec": {
   "display_name": "Python 3 (ipykernel)",
   "language": "python",
   "name": "python3"
  },
  "language_info": {
   "codemirror_mode": {
    "name": "ipython",
    "version": 3
   },
   "file_extension": ".py",
   "mimetype": "text/x-python",
   "name": "python",
   "nbconvert_exporter": "python",
   "pygments_lexer": "ipython3",
   "version": "3.9.7"
  }
 },
 "nbformat": 4,
 "nbformat_minor": 5
}
